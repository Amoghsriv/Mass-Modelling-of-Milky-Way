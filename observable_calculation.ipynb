{
 "cells": [
  {
   "cell_type": "code",
   "execution_count": 3,
   "id": "3c898e82",
   "metadata": {},
   "outputs": [],
   "source": [
    "import numpy as np\n",
    "from scipy.optimize import brentq"
   ]
  },
  {
   "cell_type": "code",
   "execution_count": 4,
   "id": "049dc25e",
   "metadata": {},
   "outputs": [],
   "source": [
    "# Constants\n",
    "gravConst = 4.302e-6  # M_sun^-1 (km/s)^2 kpc\n",
    "R_sun = 8.1  # kpc\n",
    "GeVcm3_to_Msunkpc3 = 2.685e7  # GeV/cm^3 to M_sun/kpc^3\n",
    "Msunpc2_to_Msunkpc2 = 1.0e6  # M_sun/pc^2 to M_sun/kpc^2\n",
    "H_0 = 72.1e-3  # (km/s)*kpc^-1\n",
    "rho_crit = 3 * H_0**2 / (8 * np.pi * gravConst)  # in M_sun/kpc^3"
   ]
  },
  {
   "cell_type": "code",
   "execution_count": 5,
   "id": "502882db",
   "metadata": {},
   "outputs": [],
   "source": [
    "def mass_nfw(rhoDM_sun,Rs,r):\n",
    "    Rhos = (rhoDM_sun * GeVcm3_to_Msunkpc3) * (R_sun / Rs) * (1 + (R_sun / Rs))**2\n",
    "    gr = np.log(np.maximum((Rs + r) / Rs, 1e-10)) - (r / (Rs + r + 1e-10))\n",
    "    mass_dm = 4.0 * np.pi * Rhos * gr * Rs**3\n",
    "    return mass_dm  # units of M_sun"
   ]
  },
  {
   "cell_type": "code",
   "execution_count": 6,
   "id": "d17a21d1",
   "metadata": {},
   "outputs": [],
   "source": [
    "def mass_single_exp(sigma_sun,Rb,r):\n",
    "    Sigmab = (sigma_sun * Msunpc2_to_Msunkpc2) * np.exp(R_sun / Rb)\n",
    "    M_vis = 2 * np.pi * Sigmab * Rb**2 * (1 - (1 + r / Rb) * np.exp(-r / Rb))\n",
    "    return M_vis"
   ]
  },
  {
   "cell_type": "code",
   "execution_count": 7,
   "id": "5a8ae4cb",
   "metadata": {},
   "outputs": [],
   "source": [
    "def mass_total(rhoDM_sun,Rs,sigma_sun,Rb,r):\n",
    "    M_dm = mass_nfw(rhoDM_sun,Rs,r)\n",
    "    M_vis = mass_single_exp(sigma_sun,Rb,r)\n",
    "    M_tot = M_dm + M_vis\n",
    "    return M_tot  # units of M_sun"
   ]
  },
  {
   "cell_type": "code",
   "execution_count": 8,
   "id": "1aafc6df",
   "metadata": {},
   "outputs": [],
   "source": [
    "def density_at_r(rhoDM_sun,Rs,sigma_sun,Rb,r):\n",
    "    return mass_total(rhoDM_sun,Rs,sigma_sun,Rb,r) / ((4 / 3) * np.pi * r**3)"
   ]
  },
  {
   "cell_type": "code",
   "execution_count": 9,
   "id": "157dd4c9",
   "metadata": {},
   "outputs": [],
   "source": [
    "def R_200(rhoDM_sun, Rs, sigma_sun, Rb):\n",
    "    def equation(r):\n",
    "        return density_at_r(rhoDM_sun, Rs, sigma_sun, Rb,r) - 200 * rho_crit\n",
    "    \n",
    "    # Need a numerical solver to find the root of the objective function\n",
    "    r_low = 1e-3  # Lower bound for radius\n",
    "    r_high = 500.0 # Upper bound for radius (adjust based on expected galaxy size)\n",
    "\n",
    "    try:\n",
    "        R_200_value = brentq(equation, r_low, r_high)\n",
    "        return R_200_value\n",
    "    except ValueError:\n",
    "        print(\"Error: Could not find R_200 within the given bounds.\")\n",
    "        return None"
   ]
  },
  {
   "cell_type": "code",
   "execution_count": 10,
   "id": "bf2aadb3",
   "metadata": {},
   "outputs": [],
   "source": [
    "def R_100(rhoDM_sun, Rs, sigma_sun, Rb):\n",
    "    def equation(r):\n",
    "        return density_at_r(rhoDM_sun, Rs, sigma_sun, Rb, r) - 100 * rho_crit\n",
    "    \n",
    "    # Need a numerical solver to find the root of the objective function\n",
    "    r_low = 1e-3  # Lower bound for radius\n",
    "    r_high = 500.0 # Upper bound for radius (adjust based on expected galaxy size)\n",
    "\n",
    "    try:\n",
    "        R_200_value = brentq(equation, r_low, r_high)\n",
    "        return R_200_value\n",
    "    except ValueError:\n",
    "        print(\"Error: Could not find R_200 within the given bounds.\")\n",
    "        return None"
   ]
  },
  {
   "cell_type": "code",
   "execution_count": null,
   "id": "045e4365",
   "metadata": {},
   "outputs": [],
   "source": [
    "best_fit_params = [0.4, 20.0, 0.5, 1.0]  # Example parameters: rhoDM_sun, Rs, sigma_sun, Rb\n",
    "rhoDM_sun, Rs, sigma_sun, Rb = best_fit_params\n",
    "R200 = R_200(rhoDM_sun, Rs, sigma_sun, Rb)\n",
    "M_200 = mass_total(rhoDM_sun, Rs, sigma_sun, Rb,R200)\n",
    "R100 = R_100(rhoDM_sun, Rs, sigma_sun, Rb)\n",
    "M_100 = mass_total(rhoDM_sun, Rs, sigma_sun, Rb,R100)\n",
    "\n",
    "M_rsun_total = mass_total(rhoDM_sun, Rs, sigma_sun, Rb, R_sun)\n",
    "M_rsun_dm = mass_nfw(rhoDM_sun, Rs,R_sun)\n",
    "M_rsun_vis = mass_single_exp(sigma_sun, Rb, R_sun)"
   ]
  },
  {
   "cell_type": "code",
   "execution_count": 12,
   "id": "1b35b346",
   "metadata": {},
   "outputs": [
    {
     "data": {
      "text/markdown": [
       "\n",
       "- $M_{200}^{\\text{total}} = 1.69 \\times 10^{12}\\ M_\\odot$\n",
       "- $R_{200}^{\\text{total}} = 241.17\\ \\text{kpc}$\n",
       "- $M_{\\text{total}}(r_\\odot) = 1.30 \\times 10^{11}\\ M_\\odot$\n",
       "- $M_{\\text{DM}}(r_\\odot) = 1.46 \\times 10^{10}\\ M_\\odot$\n",
       "- $M_{\\text{visible}}(r_\\odot) = 1.16 \\times 10^{11}\\ M_\\odot$\n",
       "- $M_{100}^{\\text{total}} = 2.09 \\times 10^{12}\\ M_\\odot$\n",
       "- $R_{100}^{\\text{total}} = 326.03\\ \\text{kpc}$\n"
      ],
      "text/plain": [
       "<IPython.core.display.Markdown object>"
      ]
     },
     "metadata": {},
     "output_type": "display_data"
    }
   ],
   "source": [
    "from IPython.display import display, Markdown\n",
    "\n",
    "def to_latex_sci(value):\n",
    "    \"\"\"Converts a float to LaTeX scientific notation string.\"\"\"\n",
    "    mantissa, exponent = f\"{value:.2e}\".split('e')\n",
    "    return f\"{mantissa} \\\\times 10^{{{int(exponent)}}}\"\n",
    "\n",
    "# Format each variable\n",
    "M200_latex      = to_latex_sci(M_200)\n",
    "R200_latex      = f\"{R200:.2f}\"\n",
    "M_rsun_total_latex = to_latex_sci(M_rsun_total)\n",
    "M_rsun_dm_latex = to_latex_sci(M_rsun_dm)\n",
    "M_rsun_vis_latex = to_latex_sci(M_rsun_vis)\n",
    "M_100_latex     = to_latex_sci(M_100)\n",
    "R100_latex      = f\"{R100:.2f}\"\n",
    "\n",
    "# Display formatted output\n",
    "display(Markdown(f\"\"\"\n",
    "- $M_{{200}}^{{\\\\text{{total}}}} = {M200_latex}\\\\ M_\\\\odot$\n",
    "- $R_{{200}}^{{\\\\text{{total}}}} = {R200_latex}\\\\ \\\\text{{kpc}}$\n",
    "- $M_{{\\\\text{{total}}}}(r_\\\\odot) = {M_rsun_total_latex}\\\\ M_\\\\odot$\n",
    "- $M_{{\\\\text{{DM}}}}(r_\\\\odot) = {M_rsun_dm_latex}\\\\ M_\\\\odot$\n",
    "- $M_{{\\\\text{{visible}}}}(r_\\\\odot) = {M_rsun_vis_latex}\\\\ M_\\\\odot$\n",
    "- $M_{{100}}^{{\\\\text{{total}}}} = {M_100_latex}\\\\ M_\\\\odot$\n",
    "- $R_{{100}}^{{\\\\text{{total}}}} = {R100_latex}\\\\ \\\\text{{kpc}}$\n",
    "\"\"\"))\n",
    "\n",
    "\n"
   ]
  },
  {
   "cell_type": "code",
   "execution_count": 11,
   "id": "61392060",
   "metadata": {},
   "outputs": [],
   "source": [
    "# import h5py\n",
    "\n",
    "# filename = r'C:\\Amogh\\Research\\TIFR Project\\Mass Modelling\\NFW_single_exp_analysis\\Analysis_for_LPV\\LPV_analysis_visible_gaussian_67_wideprior_dm\\mcmc_chains.h5'\n",
    "\n",
    "# with h5py.File(filename, 'r') as f:\n",
    "#     print(\"HDF5 File Structure:\\n\")\n",
    "#     def print_structure(name, obj):\n",
    "#         print(name)\n",
    "#     f.visititems(print_structure)\n"
   ]
  },
  {
   "cell_type": "code",
   "execution_count": 1,
   "id": "dbc97045",
   "metadata": {},
   "outputs": [
    {
     "name": "stdout",
     "output_type": "stream",
     "text": [
      "Minimum chi-squared: 100.6882\n",
      "Best-fit parameter values:\n",
      "  Param 1: 0.475693\n",
      "  Param 2: 5.799256\n",
      "  Param 3: 22.341291\n",
      "  Param 4: 2.302814\n"
     ]
    }
   ],
   "source": [
    "#code to obtain min chi2 from mcmc chains\n",
    "import h5py\n",
    "import numpy as np\n",
    "\n",
    "filename = r'C:\\Amogh\\Research\\TIFR Project\\Mass Modelling\\NFW_single_exp_analysis\\Analysis_for_Eilers\\Eilers_analysis_visible_gaussian_48_noprior_dm\\mcmc_chains.h5'\n",
    "\n",
    "with h5py.File(filename, 'r') as f:\n",
    "    log_prob = f['log_prob'][()]\n",
    "    chains = f['chains'][()]\n",
    "\n",
    "    # Mask for valid log_probs\n",
    "    valid_mask = np.isfinite(log_prob)\n",
    "    valid_log_prob = log_prob[valid_mask]\n",
    "    valid_chains = chains[valid_mask]  # 🛠️ align chains with valid log_probs\n",
    "\n",
    "    # Convert to chi-squared\n",
    "    chi2 = -2 * valid_log_prob\n",
    "    min_index = np.argmin(chi2)\n",
    "    min_chi2 = chi2[min_index]\n",
    "\n",
    "    best_params = valid_chains[min_index]  # now this matches correctly\n",
    "\n",
    "    print(f\"Minimum chi-squared: {min_chi2:.4f}\")\n",
    "    print(\"Best-fit parameter values:\")\n",
    "    for i, val in enumerate(best_params):\n",
    "        print(f\"  Param {i + 1}: {val:.6f}\")\n",
    "\n"
   ]
  }
 ],
 "metadata": {
  "kernelspec": {
   "display_name": "Python 3",
   "language": "python",
   "name": "python3"
  },
  "language_info": {
   "codemirror_mode": {
    "name": "ipython",
    "version": 3
   },
   "file_extension": ".py",
   "mimetype": "text/x-python",
   "name": "python",
   "nbconvert_exporter": "python",
   "pygments_lexer": "ipython3",
   "version": "3.12.3"
  }
 },
 "nbformat": 4,
 "nbformat_minor": 5
}
